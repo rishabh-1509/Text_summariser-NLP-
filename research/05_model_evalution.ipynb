{
 "cells": [
  {
   "cell_type": "code",
   "execution_count": 2,
   "metadata": {},
   "outputs": [],
   "source": [
    "import os"
   ]
  },
  {
   "cell_type": "code",
   "execution_count": 3,
   "metadata": {},
   "outputs": [
    {
     "data": {
      "text/plain": [
       "'d:\\\\voting_application\\\\Text_summariser-NLP-\\\\research'"
      ]
     },
     "execution_count": 3,
     "metadata": {},
     "output_type": "execute_result"
    }
   ],
   "source": [
    "%pwd"
   ]
  },
  {
   "cell_type": "code",
   "execution_count": 4,
   "metadata": {},
   "outputs": [],
   "source": [
    "os.chdir(\"../\")"
   ]
  },
  {
   "cell_type": "code",
   "execution_count": 5,
   "metadata": {},
   "outputs": [
    {
     "data": {
      "text/plain": [
       "'d:\\\\voting_application\\\\Text_summariser-NLP-'"
      ]
     },
     "execution_count": 5,
     "metadata": {},
     "output_type": "execute_result"
    }
   ],
   "source": [
    "%pwd"
   ]
  },
  {
   "cell_type": "code",
   "execution_count": null,
   "metadata": {},
   "outputs": [],
   "source": [
    "from dataclasses import dataclass\n",
    "from pathlib import Path \n",
    "\n",
    "@dataclass(frozen = TRUE)\n",
    "class ModelEvalutionConfig:\n",
    "    root_dir : Path\n",
    "    data_path: Path\n",
    "    model_path: Path\n",
    "    tokenizer_path: Path\n",
    "    metric_file_name: Path "
   ]
  },
  {
   "cell_type": "code",
   "execution_count": null,
   "metadata": {},
   "outputs": [],
   "source": [
    "from text_summarizer.constants import *\n",
    "from text_summarizer.utlis.common import  read_yaml, create_directories"
   ]
  },
  {
   "cell_type": "code",
   "execution_count": null,
   "metadata": {},
   "outputs": [],
   "source": [
    "class ConfigurationManager:\n",
    "    def __init__(\n",
    "            self,\n",
    "            config_filepath = CONFIG_FILE_PATH,\n",
    "            params_filepath = PARAMS_FILE_PATH):\n",
    "\n",
    "            self.config = read_yaml(config_filepath)\n",
    "            self.params = read_yaml(params_filepath)\n",
    "            create_directories([self.config.artifacts_root])\n",
    "            \n",
    "    def get_model_evalution_config(self) -> ModelEvalutionConfig:\n",
    "          config =  self.config.model_evalution_config\n",
    "\n",
    "          create_directories([config.root_dir])\n",
    "          model_evalution_config = ModelEvalutionConfig(\n",
    "                root_dir=config.root_dir,\n",
    "                data_path= config.data_path,\n",
    "                model_path= config.model_path,\n",
    "                tokenizer_path= config.tokenizer_path,\n",
    "                metric_file_name= config.metric_file_name)\n",
    "          return model_evalution_config"
   ]
  },
  {
   "cell_type": "code",
   "execution_count": null,
   "metadata": {},
   "outputs": [],
   "source": [
    "from transformers import AutoModelForSeq2Seq , AutoTokenizer\n",
    "from datasets import load_dataset , load_from_disk\n",
    "import troch\n",
    "import pandas as pd\n",
    "from tqdm import tqdm \n"
   ]
  },
  {
   "cell_type": "code",
   "execution_count": null,
   "metadata": {},
   "outputs": [],
   "source": [
    "class ModelEvalution:\n",
    "    def __init__(self, config: ModelEvalutionConfig):\n",
    "        self.config = config\n",
    "    \n",
    "    def generate_batch_size(self, list_of_element, batch_size):\n",
    "        \"\"\" split the dataset into smaller batches that we process simultanes vield  succusive batch-sized chunks from list_of_element \"\"\"\n",
    "        for i in range(0, len(list_of_element), batch_size):\n",
    "            yield list_of_element[i:i + batch_size]\n",
    "    \n",
    "    def calculate_metric_on_test_ds(self, dataset,metric, model,tokenizer, batch_size = 16 , device  = \"cuda\" if torch.cuda.is_available() else \"cpu \"\n",
    "                                    batch_size = 16 , device = \"cuda\" if torch.cuda.is_  ):\n",
    "                        "
   ]
  }
 ],
 "metadata": {
  "kernelspec": {
   "display_name": "textS",
   "language": "python",
   "name": "python3"
  },
  "language_info": {
   "codemirror_mode": {
    "name": "ipython",
    "version": 3
   },
   "file_extension": ".py",
   "mimetype": "text/x-python",
   "name": "python",
   "nbconvert_exporter": "python",
   "pygments_lexer": "ipython3",
   "version": "3.9.0"
  }
 },
 "nbformat": 4,
 "nbformat_minor": 2
}
